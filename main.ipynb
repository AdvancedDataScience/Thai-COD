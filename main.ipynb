{
 "cells": [
  {
   "cell_type": "markdown",
   "metadata": {},
   "source": [
    "# THai AI - Cause of Dead(THAI-COD)\n",
    "##### For THAIBOD\n",
    "##### By Dr. Thanawat Wongphan\n",
    "##### V.1.0 Indy Code name\n",
    "##### Contact: thwong@iu.edu"
   ]
  },
  {
   "cell_type": "markdown",
   "metadata": {},
   "source": [
    "### <font color=orange>Section I: Introduction</font>\n",
    "This program is an innovation which has been well designed for predict best suitable cause of dead(COD) by using multiple reasons from hospital summary. Using the training set from 2020 research from Thai BOD. This program has been designed by python infrastructure with AI abilities from tensorflow opensource. This program will compare multiple AI-models and return which types of model should be selected in Thailand setting.\n",
    "\n",
    "#### This programs consisting of six sections:\n",
    "* Section I:    <tab>Introduction</tab>\n",
    "* Section II:   <tab>library and functions load</tab>\n",
    "* Section III:   <tab>Data manipulation</tab>\n",
    "* Section IV:  AI process\n",
    "* Section V:   Analysis\n",
    "* Section VI:    Conclusion and discussion\n",
    "\n",
    "<b>This jupyter notebook can be used and tested by open communities under the GPL-licensed by Dr.Thanawat Wongphan and THAI-BOD working group.</b>\n",
    "\n"
   ]
  },
  {
   "cell_type": "markdown",
   "metadata": {},
   "source": [
    "### <font color=orange>Section II: Library and functions load</font>"
   ]
  },
  {
   "cell_type": "code",
   "execution_count": 11,
   "metadata": {},
   "outputs": [],
   "source": [
    "## Section II:\n",
    "import pandas as pd\n",
    "import numpy as np\n",
    "import tensorflow as tf\n",
    "from tensorflow.keras.models import Model, Sequential\n",
    "from tensorflow.keras.layers import Dense, Input, Dropout, LSTM, Activation, Conv1D,MaxPooling1D,Flatten,GlobalAveragePooling1D,GlobalMaxPooling1D\n",
    "from tensorflow.keras.layers import Embedding\n",
    "from tensorflow.keras.preprocessing import sequence\n",
    "from tensorflow.keras.initializers import glorot_uniform\n",
    "from sklearn.preprocessing import MinMaxScaler\n",
    "from tensorflow.keras import layers\n",
    "from keras.layers import Flatten\n",
    "from keras import backend as K\n",
    "from sklearn.preprocessing import MinMaxScaler,StandardScaler\n",
    "from sklearn.metrics import mean_squared_error\n"
   ]
  },
  {
   "cell_type": "markdown",
   "metadata": {},
   "source": [
    "### <font color=orange>Section III: Data manipulation</font>"
   ]
  },
  {
   "cell_type": "markdown",
   "metadata": {},
   "source": [
    "3.1 Data loading:"
   ]
  },
  {
   "cell_type": "code",
   "execution_count": 4,
   "metadata": {},
   "outputs": [
    {
     "name": "stdout",
     "output_type": "stream",
     "text": [
      "File: Data/Original.csv has 7 columns and 1000 rows. The sample of first three rows are:\n"
     ]
    },
    {
     "data": {
      "text/html": [
       "<div>\n",
       "<style scoped>\n",
       "    .dataframe tbody tr th:only-of-type {\n",
       "        vertical-align: middle;\n",
       "    }\n",
       "\n",
       "    .dataframe tbody tr th {\n",
       "        vertical-align: top;\n",
       "    }\n",
       "\n",
       "    .dataframe thead th {\n",
       "        text-align: right;\n",
       "    }\n",
       "</style>\n",
       "<table border=\"1\" class=\"dataframe\">\n",
       "  <thead>\n",
       "    <tr style=\"text-align: right;\">\n",
       "      <th></th>\n",
       "      <th>ID</th>\n",
       "      <th>A</th>\n",
       "      <th>B</th>\n",
       "      <th>C</th>\n",
       "      <th>D</th>\n",
       "      <th>tmp_output</th>\n",
       "      <th>Output</th>\n",
       "    </tr>\n",
       "  </thead>\n",
       "  <tbody>\n",
       "    <tr>\n",
       "      <th>0</th>\n",
       "      <td>1</td>\n",
       "      <td>24</td>\n",
       "      <td>3</td>\n",
       "      <td>185</td>\n",
       "      <td>234</td>\n",
       "      <td>23</td>\n",
       "      <td>2</td>\n",
       "    </tr>\n",
       "    <tr>\n",
       "      <th>1</th>\n",
       "      <td>2</td>\n",
       "      <td>47</td>\n",
       "      <td>10</td>\n",
       "      <td>117</td>\n",
       "      <td>227</td>\n",
       "      <td>360</td>\n",
       "      <td>4</td>\n",
       "    </tr>\n",
       "    <tr>\n",
       "      <th>2</th>\n",
       "      <td>3</td>\n",
       "      <td>100</td>\n",
       "      <td>6</td>\n",
       "      <td>117</td>\n",
       "      <td>257</td>\n",
       "      <td>460</td>\n",
       "      <td>4</td>\n",
       "    </tr>\n",
       "  </tbody>\n",
       "</table>\n",
       "</div>"
      ],
      "text/plain": [
       "   ID    A   B    C    D  tmp_output  Output\n",
       "0   1   24   3  185  234          23       2\n",
       "1   2   47  10  117  227         360       4\n",
       "2   3  100   6  117  257         460       4"
      ]
     },
     "execution_count": 4,
     "metadata": {},
     "output_type": "execute_result"
    }
   ],
   "source": [
    "flname=\"Data/Original.csv\"\n",
    "OriginalCSV = pd.read_csv(flname)\n",
    "print(\"File: {} has {} columns and {} rows. The sample of first three rows are:\".format(flname,OriginalCSV.shape[1],OriginalCSV.shape[0]))\n",
    "OriginalCSV.head(3)"
   ]
  },
  {
   "cell_type": "markdown",
   "metadata": {},
   "source": [
    "3.2 Data cleaning"
   ]
  },
  {
   "cell_type": "code",
   "execution_count": 5,
   "metadata": {},
   "outputs": [],
   "source": [
    "CleanData=OriginalCSV"
   ]
  },
  {
   "cell_type": "markdown",
   "metadata": {},
   "source": [
    "3.3 Data shuffle and partitioning"
   ]
  },
  {
   "cell_type": "markdown",
   "metadata": {},
   "source": [
    "3.3.1 Sizing partition"
   ]
  },
  {
   "cell_type": "code",
   "execution_count": 6,
   "metadata": {},
   "outputs": [
    {
     "name": "stdout",
     "output_type": "stream",
     "text": [
      "From total 1,000 rows, the samples have been partitioned into 3 sets: Train/Dev/Test size: 800/100/100\n"
     ]
    }
   ],
   "source": [
    "#Declare ratio of Train/Dev and the rest is test set\n",
    "TrainRatio=0.8\n",
    "DevRatio=0.1\n",
    "\n",
    "TrainSize=int(np.round(TrainRatio*CleanData.shape[0]))\n",
    "DevSize=int(np.round(DevRatio*CleanData.shape[0]))\n",
    "TestSize=CleanData.shape[0]-TrainSize-DevSize\n",
    "print(\"From total {:,} rows, the samples have been partitioned into 3 sets: Train/Dev/Test size: {}/{}/{}\".format(\n",
    "    CleanData.shape[0],TrainSize,DevSize,TestSize\n",
    "))"
   ]
  },
  {
   "cell_type": "markdown",
   "metadata": {},
   "source": [
    "3.3.2 Shuffle index"
   ]
  },
  {
   "cell_type": "code",
   "execution_count": 7,
   "metadata": {},
   "outputs": [],
   "source": [
    "ind=CleanData.index\n",
    "ind_list=ind.to_list()\n",
    "np.random.shuffle(ind_list)\n",
    "ind_shuffle_list=ind_list\n",
    "TrainIndex=ind_shuffle_list[0:TrainSize]\n",
    "DevIndex=ind_shuffle_list[TrainSize:(TrainSize+DevSize)]\n",
    "TestIndex=ind_shuffle_list[(TrainSize+DevSize):]"
   ]
  },
  {
   "cell_type": "markdown",
   "metadata": {},
   "source": [
    "3.3.3 partition data by index\n"
   ]
  },
  {
   "cell_type": "code",
   "execution_count": 8,
   "metadata": {},
   "outputs": [],
   "source": [
    "TrainSet=CleanData.iloc[TrainIndex]\n",
    "DevSet=CleanData.iloc[DevIndex]\n",
    "TestSet=CleanData.iloc[TestIndex]"
   ]
  },
  {
   "cell_type": "markdown",
   "metadata": {},
   "source": [
    "### <font color=orange>Section IV: AI</font>"
   ]
  },
  {
   "cell_type": "markdown",
   "metadata": {},
   "source": [
    "4.1 CNN Deep learning:"
   ]
  },
  {
   "cell_type": "code",
   "execution_count": 23,
   "metadata": {},
   "outputs": [
    {
     "name": "stdout",
     "output_type": "stream",
     "text": [
      "Model: \"sequential_4\"\n",
      "_________________________________________________________________\n",
      " Layer (type)                Output Shape              Param #   \n",
      "=================================================================\n",
      " conv1d_3 (Conv1D)           (None, 2, 10)             40        \n",
      "                                                                 \n",
      " max_pooling1d_3 (MaxPooling  (None, 2, 10)            0         \n",
      " 1D)                                                             \n",
      "                                                                 \n",
      " flatten_3 (Flatten)         (None, 20)                0         \n",
      "                                                                 \n",
      " dense_6 (Dense)             (None, 500)               10500     \n",
      "                                                                 \n",
      " dense_7 (Dense)             (None, 4)                 2004      \n",
      "                                                                 \n",
      "=================================================================\n",
      "Total params: 12,544\n",
      "Trainable params: 12,544\n",
      "Non-trainable params: 0\n",
      "_________________________________________________________________\n",
      "Epoch 1/50\n",
      "25/25 [==============================] - 0s 687us/step - loss: 2.7931 - accuracy: 0.2475\n",
      "Epoch 2/50\n",
      "25/25 [==============================] - 0s 678us/step - loss: 0.6519 - accuracy: 0.3425\n",
      "Epoch 3/50\n",
      "25/25 [==============================] - 0s 691us/step - loss: 0.8623 - accuracy: 0.2400\n",
      "Epoch 4/50\n",
      "25/25 [==============================] - 0s 760us/step - loss: 2.2732 - accuracy: 0.2725\n",
      "Epoch 5/50\n",
      "25/25 [==============================] - 0s 777us/step - loss: 2.0892 - accuracy: 0.2550\n",
      "Epoch 6/50\n",
      "25/25 [==============================] - 0s 835us/step - loss: 7.5308 - accuracy: 0.2075\n",
      "Epoch 7/50\n",
      "25/25 [==============================] - 0s 799us/step - loss: 8.1684 - accuracy: 0.2412\n",
      "Epoch 8/50\n",
      "25/25 [==============================] - 0s 715us/step - loss: 10.5619 - accuracy: 0.2362\n",
      "Epoch 9/50\n",
      "25/25 [==============================] - 0s 691us/step - loss: 17.6848 - accuracy: 0.2325\n",
      "Epoch 10/50\n",
      "25/25 [==============================] - 0s 748us/step - loss: 23.9644 - accuracy: 0.2525\n",
      "Epoch 11/50\n",
      "25/25 [==============================] - 0s 1ms/step - loss: 27.5092 - accuracy: 0.2387\n",
      "Epoch 12/50\n",
      "25/25 [==============================] - 0s 760us/step - loss: 51.6257 - accuracy: 0.2163\n",
      "Epoch 13/50\n",
      "25/25 [==============================] - 0s 760us/step - loss: 39.3788 - accuracy: 0.2313\n",
      "Epoch 14/50\n",
      "25/25 [==============================] - 0s 711us/step - loss: 28.7805 - accuracy: 0.2412\n",
      "Epoch 15/50\n",
      "25/25 [==============================] - 0s 752us/step - loss: 92.0458 - accuracy: 0.2037\n",
      "Epoch 16/50\n",
      "25/25 [==============================] - 0s 731us/step - loss: 49.3613 - accuracy: 0.2400\n",
      "Epoch 17/50\n",
      "25/25 [==============================] - 0s 745us/step - loss: 125.3414 - accuracy: 0.1988\n",
      "Epoch 18/50\n",
      "25/25 [==============================] - 0s 726us/step - loss: 169.3456 - accuracy: 0.2338\n",
      "Epoch 19/50\n",
      "25/25 [==============================] - 0s 731us/step - loss: 107.7121 - accuracy: 0.2212\n",
      "Epoch 20/50\n",
      "25/25 [==============================] - 0s 732us/step - loss: 261.0039 - accuracy: 0.1875\n",
      "Epoch 21/50\n",
      "25/25 [==============================] - 0s 2ms/step - loss: 180.9947 - accuracy: 0.2188\n",
      "Epoch 22/50\n",
      "25/25 [==============================] - 0s 732us/step - loss: 388.2856 - accuracy: 0.2163\n",
      "Epoch 23/50\n",
      "25/25 [==============================] - 0s 720us/step - loss: 211.3036 - accuracy: 0.1863\n",
      "Epoch 24/50\n",
      "25/25 [==============================] - 0s 775us/step - loss: 299.1306 - accuracy: 0.2025\n",
      "Epoch 25/50\n",
      "25/25 [==============================] - 0s 727us/step - loss: 413.6296 - accuracy: 0.2050\n",
      "Epoch 26/50\n",
      "25/25 [==============================] - 0s 713us/step - loss: 415.8729 - accuracy: 0.2288\n",
      "Epoch 27/50\n",
      "25/25 [==============================] - 0s 746us/step - loss: 288.9992 - accuracy: 0.1950\n",
      "Epoch 28/50\n",
      "25/25 [==============================] - 0s 721us/step - loss: 466.7738 - accuracy: 0.2300\n",
      "Epoch 29/50\n",
      "25/25 [==============================] - 0s 735us/step - loss: 265.1247 - accuracy: 0.1775\n",
      "Epoch 30/50\n",
      "25/25 [==============================] - 0s 757us/step - loss: 371.6554 - accuracy: 0.2300\n",
      "Epoch 31/50\n",
      "25/25 [==============================] - 0s 713us/step - loss: 394.5116 - accuracy: 0.2212\n",
      "Epoch 32/50\n",
      "25/25 [==============================] - 0s 729us/step - loss: 324.7701 - accuracy: 0.2163\n",
      "Epoch 33/50\n",
      "25/25 [==============================] - 0s 735us/step - loss: 552.2220 - accuracy: 0.2075\n",
      "Epoch 34/50\n",
      "25/25 [==============================] - 0s 744us/step - loss: 554.4094 - accuracy: 0.2013\n",
      "Epoch 35/50\n",
      "25/25 [==============================] - 0s 738us/step - loss: 650.1630 - accuracy: 0.2325\n",
      "Epoch 36/50\n",
      "25/25 [==============================] - 0s 749us/step - loss: 438.4403 - accuracy: 0.2288\n",
      "Epoch 37/50\n",
      "25/25 [==============================] - 0s 736us/step - loss: 766.3775 - accuracy: 0.1950\n",
      "Epoch 38/50\n",
      "25/25 [==============================] - 0s 714us/step - loss: 647.1432 - accuracy: 0.1988\n",
      "Epoch 39/50\n",
      "25/25 [==============================] - 0s 727us/step - loss: 580.2869 - accuracy: 0.2250\n",
      "Epoch 40/50\n",
      "25/25 [==============================] - 0s 716us/step - loss: 728.2316 - accuracy: 0.2125\n",
      "Epoch 41/50\n",
      "25/25 [==============================] - 0s 734us/step - loss: 973.8392 - accuracy: 0.2262\n",
      "Epoch 42/50\n",
      "25/25 [==============================] - 0s 729us/step - loss: 1026.7058 - accuracy: 0.2000\n",
      "Epoch 43/50\n",
      "25/25 [==============================] - 0s 717us/step - loss: 655.8365 - accuracy: 0.1912\n",
      "Epoch 44/50\n",
      "25/25 [==============================] - 0s 728us/step - loss: 1076.6382 - accuracy: 0.2362\n",
      "Epoch 45/50\n",
      "25/25 [==============================] - 0s 736us/step - loss: 737.8976 - accuracy: 0.2138\n",
      "Epoch 46/50\n",
      "25/25 [==============================] - 0s 747us/step - loss: 646.4959 - accuracy: 0.2500\n",
      "Epoch 47/50\n",
      "25/25 [==============================] - 0s 710us/step - loss: 785.1588 - accuracy: 0.2100\n",
      "Epoch 48/50\n",
      "25/25 [==============================] - 0s 737us/step - loss: 1319.7456 - accuracy: 0.2050\n",
      "Epoch 49/50\n",
      "25/25 [==============================] - 0s 700us/step - loss: 1266.8459 - accuracy: 0.2125\n",
      "Epoch 50/50\n",
      "25/25 [==============================] - 0s 754us/step - loss: 1021.7791 - accuracy: 0.2075\n",
      "25/25 [==============================] - 0s 389us/step\n"
     ]
    }
   ],
   "source": [
    "#Use Class at 5 min: 0 = neutral, 1 = sell, 2= buy ,3 = both sell and buy correct\n",
    "ySelectedFeatures = ['Output']\n",
    "xSelectedFeatures = ['A','B','C','D']\n",
    "\n",
    "x_Train=TrainSet[xSelectedFeatures]\n",
    "y_Train_pre_HOT = TrainSet[ySelectedFeatures]\n",
    "y_Train= tf.one_hot(np.reshape(y_Train_pre_HOT,x_Train.shape[0]),y_Train_pre_HOT[ySelectedFeatures[0]].nunique())\n",
    "y_Dev = DevSet[ySelectedFeatures]\n",
    "y_Test = TestSet[ySelectedFeatures][:TestSize]\n",
    "y_Train_pre_HOT.value_counts()\n",
    "filtered_train = np.reshape(x_Train,(x_Train.shape[0],x_Train.shape[1],1))\n",
    "EpochNum=50\n",
    "filtersize=10\n",
    "model_cnn_wide_10 = Sequential()\n",
    "model_cnn_wide_10.add(Conv1D(filters=filtersize, kernel_size=filtered_train.shape[1]-1, input_shape=(filtered_train.shape[1], filtered_train.shape[2])))\n",
    "model_cnn_wide_10.add(MaxPooling1D(pool_size=1 ))\n",
    "model_cnn_wide_10.add(Flatten())\n",
    "model_cnn_wide_10.add(Dense(500, activation='relu'))\n",
    "model_cnn_wide_10.add(Dense(y_Train_pre_HOT[ySelectedFeatures[0]].nunique(), activation='softmax'))\n",
    "model_cnn_wide_10.compile(loss='CategoricalCrossentropy', optimizer='adam', metrics=['accuracy'])\n",
    "model_cnn_wide_10.summary()\n",
    "history_cnn_wide_10=model_cnn_wide_10.fit(x=filtered_train, y=y_Train, epochs=EpochNum)\n",
    "yhat_cnn_wide_10 = model_cnn_wide_10.predict(filtered_train)\n"
   ]
  },
  {
   "cell_type": "code",
   "execution_count": 27,
   "metadata": {},
   "outputs": [
    {
     "name": "stdout",
     "output_type": "stream",
     "text": [
      "The best accuracy of CNN is 20.750%\n"
     ]
    }
   ],
   "source": [
    "#Based on train data:\n",
    "print(\"The best accuracy of CNN is {:.3%}\".format(history_cnn_wide_10.history['accuracy'][-1]))\n",
    "BestAccuracy['CNN']=1\n"
   ]
  },
  {
   "cell_type": "code",
   "execution_count": 35,
   "metadata": {},
   "outputs": [
    {
     "data": {
      "text/plain": [
       "{'Model': ['CNN'], 'Accuracy': [0.20749999582767487]}"
      ]
     },
     "execution_count": 35,
     "metadata": {},
     "output_type": "execute_result"
    }
   ],
   "source": [
    "BestAccuracy={'Model':['CNN'],'Accuracy':[history_cnn_wide_10.history['accuracy'][-1]]}\n",
    "BestAccuracy"
   ]
  },
  {
   "cell_type": "code",
   "execution_count": 37,
   "metadata": {},
   "outputs": [],
   "source": [
    "BestAccuracy['Model']='CNN'"
   ]
  },
  {
   "cell_type": "markdown",
   "metadata": {},
   "source": [
    "4.2 Model XXX"
   ]
  },
  {
   "cell_type": "code",
   "execution_count": null,
   "metadata": {},
   "outputs": [],
   "source": [
    "# Detail pf model xxx"
   ]
  },
  {
   "cell_type": "markdown",
   "metadata": {},
   "source": [
    "### <font color=orange>Section V: Analysis</font>"
   ]
  },
  {
   "cell_type": "markdown",
   "metadata": {},
   "source": [
    "5.1 Analysis of accuracy"
   ]
  },
  {
   "cell_type": "code",
   "execution_count": 40,
   "metadata": {},
   "outputs": [
    {
     "data": {
      "text/html": [
       "<div>\n",
       "<style scoped>\n",
       "    .dataframe tbody tr th:only-of-type {\n",
       "        vertical-align: middle;\n",
       "    }\n",
       "\n",
       "    .dataframe tbody tr th {\n",
       "        vertical-align: top;\n",
       "    }\n",
       "\n",
       "    .dataframe thead th {\n",
       "        text-align: right;\n",
       "    }\n",
       "</style>\n",
       "<table border=\"1\" class=\"dataframe\">\n",
       "  <thead>\n",
       "    <tr style=\"text-align: right;\">\n",
       "      <th></th>\n",
       "      <th>Model Number</th>\n",
       "      <th>Model Name</th>\n",
       "      <th>Accuracy</th>\n",
       "    </tr>\n",
       "  </thead>\n",
       "  <tbody>\n",
       "    <tr>\n",
       "      <th>0</th>\n",
       "      <td>1</td>\n",
       "      <td>CNN</td>\n",
       "      <td>0.2075</td>\n",
       "    </tr>\n",
       "    <tr>\n",
       "      <th>1</th>\n",
       "      <td>2</td>\n",
       "      <td>Transformer</td>\n",
       "      <td>0.5000</td>\n",
       "    </tr>\n",
       "  </tbody>\n",
       "</table>\n",
       "</div>"
      ],
      "text/plain": [
       "   Model Number   Model Name  Accuracy\n",
       "0             1          CNN    0.2075\n",
       "1             2  Transformer    0.5000"
      ]
     },
     "metadata": {},
     "output_type": "display_data"
    }
   ],
   "source": [
    "AccuracyTable = pd.DataFrame({'Model Number':[1,2],\n",
    "                              'Model Name':['CNN','Transformer'],\n",
    "                              'Accuracy':[history_cnn_wide_10.history['accuracy'][-1],0.5]})\n",
    "display(AccuracyTable )"
   ]
  },
  {
   "cell_type": "markdown",
   "metadata": {},
   "source": [
    "### <font color=orange>Section VI: Conclusion and discussion</font>"
   ]
  },
  {
   "cell_type": "markdown",
   "metadata": {},
   "source": []
  },
  {
   "cell_type": "code",
   "execution_count": 46,
   "metadata": {},
   "outputs": [
    {
     "name": "stdout",
     "output_type": "stream",
     "text": [
      "\n",
      "      As you see, the predictive accuracy from model 1. CNN is less than the second one.\n",
      "      Therefore the model number two is better than number one,\n",
      "      and should be used  for further coding support.\n"
     ]
    }
   ],
   "source": [
    "print(\"\"\"\n",
    "      As you see, the predictive accuracy from model 1. CNN is less than the second one.\n",
    "      Therefore the model number two is better than number one,\n",
    "      and should be used  for further coding support.\"\"\")"
   ]
  },
  {
   "cell_type": "code",
   "execution_count": null,
   "metadata": {},
   "outputs": [],
   "source": []
  }
 ],
 "metadata": {
  "kernelspec": {
   "display_name": "spyder",
   "language": "python",
   "name": "python3"
  },
  "language_info": {
   "codemirror_mode": {
    "name": "ipython",
    "version": 3
   },
   "file_extension": ".py",
   "mimetype": "text/x-python",
   "name": "python",
   "nbconvert_exporter": "python",
   "pygments_lexer": "ipython3",
   "version": "3.11.0"
  }
 },
 "nbformat": 4,
 "nbformat_minor": 2
}
